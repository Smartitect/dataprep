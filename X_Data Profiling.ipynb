{
 "cells": [
  {
   "cell_type": "markdown",
   "metadata": {},
   "source": [
    " # Data Profiling Playbook\n",
    " The intention of this notebook is to develop a generic approach to profiling a single column.\n",
    " This will take into account:\n",
    " - The primary data type of the column - eg if it's a date, we can generate more specialised analytics\n",
    " - We may also be able to apply more specialised checks, for example based on REGEX to check national insurance numbers etc."
   ]
  },
  {
   "cell_type": "code",
   "execution_count": 1,
   "metadata": {},
   "outputs": [],
   "source": [
    "# Import all of the libraries we need to use...\n",
    "import pandas as pd\n",
    "import azureml.dataprep as dprep\n",
    "import os as os\n",
    "import re as re\n",
    "import collections\n",
    "import seaborn as sns\n",
    "import pandas_profiling as pp\n",
    "import datetime\n",
    "from datetime import datetime\n",
    "from azureml.dataprep import value\n",
    "from azureml.dataprep import col\n",
    "from azureml.dataprep import Dataflow\n",
    "from commonCode import savePackage, openPackage, createFullPackagePath\n",
    "\n"
   ]
  },
  {
   "cell_type": "code",
   "execution_count": 2,
   "metadata": {},
   "outputs": [],
   "source": [
    "# Not used fo now, but should be driven by:\n",
    "stageNumber = '1'\n",
    "dataName = 'PEOPLE'\n",
    "qualityFlag = 'A'\n",
    "noMissingFlag = True\n",
    "\n",
    "# For now, I'm cheating, just specifying file.  But will use helper function to build ultimately:\n",
    "dataFlowFile = './packages/PEOPLE/2/PEOPLE_A_package.dprep'\n",
    "indexColumn = 'ID'\n",
    "targetColumn = 'DOB'"
   ]
  },
  {
   "cell_type": "code",
   "execution_count": 3,
   "metadata": {},
   "outputs": [],
   "source": [
    "dataFlow = Dataflow.open(dataFlowFile)\n"
   ]
  },
  {
   "cell_type": "code",
   "execution_count": 4,
   "metadata": {},
   "outputs": [],
   "source": [
    "dataFlow = dataFlow.keep_columns([indexColumn, targetColumn])\n"
   ]
  },
  {
   "cell_type": "code",
   "execution_count": 5,
   "metadata": {},
   "outputs": [],
   "source": [
    "dataProfile = dataFlow.get_profile()\n"
   ]
  },
  {
   "cell_type": "code",
   "execution_count": 6,
   "metadata": {},
   "outputs": [
    {
     "data": {
      "text/html": [
       "<table border=\"1\" class=\"dataframe\">\n",
       "  <thead>\n",
       "    <tr style=\"text-align: right;\">\n",
       "      <th></th>\n",
       "      <th>Type</th>\n",
       "      <th>Min</th>\n",
       "      <th>Max</th>\n",
       "      <th>Count</th>\n",
       "      <th>Missing Count</th>\n",
       "      <th>Not Missing Count</th>\n",
       "      <th>Percent missing</th>\n",
       "      <th>Error Count</th>\n",
       "      <th>Empty count</th>\n",
       "      <th>0.1% Quantile</th>\n",
       "      <th>1% Quantile</th>\n",
       "      <th>5% Quantile</th>\n",
       "      <th>25% Quantile</th>\n",
       "      <th>50% Quantile</th>\n",
       "      <th>75% Quantile</th>\n",
       "      <th>95% Quantile</th>\n",
       "      <th>99% Quantile</th>\n",
       "      <th>99.9% Quantile</th>\n",
       "      <th>Mean</th>\n",
       "      <th>Standard Deviation</th>\n",
       "      <th>Variance</th>\n",
       "      <th>Skewness</th>\n",
       "      <th>Kurtosis</th>\n",
       "    </tr>\n",
       "  </thead>\n",
       "  <tbody>\n",
       "    <tr>\n",
       "      <th>DOB</th>\n",
       "      <td>FieldType.DATE</td>\n",
       "      <td>1900-01-01 00:00:00+00:00</td>\n",
       "      <td>2008-10-25 00:00:00+00:00</td>\n",
       "      <td>19147.0</td>\n",
       "      <td>1.0</td>\n",
       "      <td>19146.0</td>\n",
       "      <td>0.000052</td>\n",
       "      <td>0.0</td>\n",
       "      <td>0.0</td>\n",
       "      <td></td>\n",
       "      <td></td>\n",
       "      <td></td>\n",
       "      <td></td>\n",
       "      <td></td>\n",
       "      <td></td>\n",
       "      <td></td>\n",
       "      <td></td>\n",
       "      <td></td>\n",
       "      <td></td>\n",
       "      <td></td>\n",
       "      <td></td>\n",
       "      <td></td>\n",
       "      <td></td>\n",
       "    </tr>\n",
       "    <tr>\n",
       "      <th>ID</th>\n",
       "      <td>FieldType.INTEGER</td>\n",
       "      <td>17936</td>\n",
       "      <td>36765</td>\n",
       "      <td>19147.0</td>\n",
       "      <td>1.0</td>\n",
       "      <td>19146.0</td>\n",
       "      <td>0.000052</td>\n",
       "      <td>0.0</td>\n",
       "      <td>0.0</td>\n",
       "      <td>17957.5</td>\n",
       "      <td>19834.1</td>\n",
       "      <td>19741</td>\n",
       "      <td>22621.6</td>\n",
       "      <td>27301.9</td>\n",
       "      <td>31965.1</td>\n",
       "      <td>35744</td>\n",
       "      <td>36546.7</td>\n",
       "      <td>36743.4</td>\n",
       "      <td>27298.8</td>\n",
       "      <td>5400.8</td>\n",
       "      <td>2.91686e+07</td>\n",
       "      <td>0.0072681</td>\n",
       "      <td>-1.19487</td>\n",
       "    </tr>\n",
       "  </tbody>\n",
       "</table>"
      ],
      "text/plain": [
       "ColumnProfile:\n",
       "    column_name: DOB\n",
       "    type: FieldType.DATE\n",
       "\n",
       "    min: 1900-01-01 00:00:00+00:00\n",
       "    max: 2008-10-25 00:00:00+00:00\n",
       "    count: 19147.0\n",
       "    missing_count: 1.0\n",
       "    not_missing_count: 19146.0\n",
       "    percent_missing: 5.222750300308142e-05\n",
       "    error_count: 0.0\n",
       "    empty_count: 0.0\n",
       "\n",
       "\n",
       "ColumnProfile:\n",
       "    column_name: ID\n",
       "    type: FieldType.INTEGER\n",
       "\n",
       "    min: 17936.0\n",
       "    max: 36765.0\n",
       "    count: 19147.0\n",
       "    missing_count: 1.0\n",
       "    not_missing_count: 19146.0\n",
       "    percent_missing: 5.222750300308142e-05\n",
       "    error_count: 0.0\n",
       "    empty_count: 0.0\n",
       "\n",
       "\n",
       "    Quantiles:\n",
       "         0.1%: 17957.505076923077\n",
       "           1%: 19834.11288011696\n",
       "           5%: 19741.04861111111\n",
       "          25%: 22621.57794636583\n",
       "          50%: 27301.880255872522\n",
       "          75%: 31965.093154567367\n",
       "          95%: 35743.97104916763\n",
       "          99%: 36546.678301158296\n",
       "        99.9%: 36743.43258133971\n",
       "\n",
       "    mean: 27298.755562519484\n",
       "    std: 5400.796882343092\n",
       "    variance: 29168606.964326866\n",
       "    skewness: 0.007268103979632813\n",
       "    kurtosis: -1.194865681433907"
      ]
     },
     "execution_count": 6,
     "metadata": {},
     "output_type": "execute_result"
    }
   ],
   "source": [
    "dataProfile\n"
   ]
  },
  {
   "cell_type": "code",
   "execution_count": 7,
   "metadata": {},
   "outputs": [],
   "source": [
    "columnDataProfile = dataProfile.columns[targetColumn]\n"
   ]
  },
  {
   "cell_type": "code",
   "execution_count": 8,
   "metadata": {},
   "outputs": [
    {
     "data": {
      "text/html": [
       "<table border=\"1\" class=\"dataframe\">\n",
       "  <thead>\n",
       "    <tr style=\"text-align: right;\">\n",
       "      <th></th>\n",
       "      <th>Statistics</th>\n",
       "    </tr>\n",
       "  </thead>\n",
       "  <tbody>\n",
       "    <tr>\n",
       "      <th>Type</th>\n",
       "      <td>FieldType.DATE</td>\n",
       "    </tr>\n",
       "    <tr>\n",
       "      <th>Min</th>\n",
       "      <td>1900-01-01 00:00:00+00:00</td>\n",
       "    </tr>\n",
       "    <tr>\n",
       "      <th>Max</th>\n",
       "      <td>2008-10-25 00:00:00+00:00</td>\n",
       "    </tr>\n",
       "    <tr>\n",
       "      <th>Count</th>\n",
       "      <td>19147</td>\n",
       "    </tr>\n",
       "    <tr>\n",
       "      <th>Missing Count</th>\n",
       "      <td>1</td>\n",
       "    </tr>\n",
       "    <tr>\n",
       "      <th>Not Missing Count</th>\n",
       "      <td>19146</td>\n",
       "    </tr>\n",
       "    <tr>\n",
       "      <th>Percent missing</th>\n",
       "      <td>5.22275e-05</td>\n",
       "    </tr>\n",
       "    <tr>\n",
       "      <th>Error Count</th>\n",
       "      <td>0</td>\n",
       "    </tr>\n",
       "    <tr>\n",
       "      <th>Empty count</th>\n",
       "      <td>0</td>\n",
       "    </tr>\n",
       "    <tr>\n",
       "      <th>0.1% Quantile</th>\n",
       "      <td></td>\n",
       "    </tr>\n",
       "    <tr>\n",
       "      <th>1% Quantile</th>\n",
       "      <td></td>\n",
       "    </tr>\n",
       "    <tr>\n",
       "      <th>5% Quantile</th>\n",
       "      <td></td>\n",
       "    </tr>\n",
       "    <tr>\n",
       "      <th>25% Quantile</th>\n",
       "      <td></td>\n",
       "    </tr>\n",
       "    <tr>\n",
       "      <th>50% Quantile</th>\n",
       "      <td></td>\n",
       "    </tr>\n",
       "    <tr>\n",
       "      <th>75% Quantile</th>\n",
       "      <td></td>\n",
       "    </tr>\n",
       "    <tr>\n",
       "      <th>95% Quantile</th>\n",
       "      <td></td>\n",
       "    </tr>\n",
       "    <tr>\n",
       "      <th>99% Quantile</th>\n",
       "      <td></td>\n",
       "    </tr>\n",
       "    <tr>\n",
       "      <th>99.9% Quantile</th>\n",
       "      <td></td>\n",
       "    </tr>\n",
       "    <tr>\n",
       "      <th>Mean</th>\n",
       "      <td></td>\n",
       "    </tr>\n",
       "    <tr>\n",
       "      <th>Standard Deviation</th>\n",
       "      <td></td>\n",
       "    </tr>\n",
       "    <tr>\n",
       "      <th>Variance</th>\n",
       "      <td></td>\n",
       "    </tr>\n",
       "    <tr>\n",
       "      <th>Skewness</th>\n",
       "      <td></td>\n",
       "    </tr>\n",
       "    <tr>\n",
       "      <th>Kurtosis</th>\n",
       "      <td></td>\n",
       "    </tr>\n",
       "  </tbody>\n",
       "</table>"
      ],
      "text/plain": [
       "ColumnProfile:\n",
       "    column_name: DOB\n",
       "    type: FieldType.DATE\n",
       "\n",
       "    min: 1900-01-01 00:00:00+00:00\n",
       "    max: 2008-10-25 00:00:00+00:00\n",
       "    count: 19147.0\n",
       "    missing_count: 1.0\n",
       "    not_missing_count: 19146.0\n",
       "    percent_missing: 5.222750300308142e-05\n",
       "    error_count: 0.0\n",
       "    empty_count: 0.0\n"
      ]
     },
     "execution_count": 8,
     "metadata": {},
     "output_type": "execute_result"
    }
   ],
   "source": [
    "columnDataProfile\n"
   ]
  },
  {
   "cell_type": "code",
   "execution_count": 9,
   "metadata": {},
   "outputs": [],
   "source": [
    "if columnDataProfile.type == 'FieldType.DATE':\n",
    "    print('Date Field Detected!')\n",
    "    # NOTE - what do I need to do to detect date field?\n"
   ]
  },
  {
   "cell_type": "code",
   "execution_count": 10,
   "metadata": {},
   "outputs": [],
   "source": [
    "# Add year\n",
    "columnByExampleBuilder = dataFlow.builders.derive_column_by_example(source_columns = [targetColumn], new_column_name = 'Year')\n",
    "columnByExampleBuilder.add_example(source_data = {targetColumn : '2008-10-25 00:00:00'}, example_value = '2008')\n",
    "columnByExampleBuilder.preview()\n",
    "dataFlow = columnByExampleBuilder.to_dataflow()\n"
   ]
  },
  {
   "cell_type": "code",
   "execution_count": 11,
   "metadata": {},
   "outputs": [],
   "source": [
    "# Add month\n",
    "columnByExampleBuilder = dataFlow.builders.derive_column_by_example(source_columns = [targetColumn], new_column_name = 'Month')\n",
    "columnByExampleBuilder.add_example(source_data = {targetColumn : '2008-10-25 00:00:00'}, example_value = 'October')\n",
    "columnByExampleBuilder.preview()\n",
    "dataFlow = columnByExampleBuilder.to_dataflow()\n"
   ]
  },
  {
   "cell_type": "code",
   "execution_count": 12,
   "metadata": {},
   "outputs": [],
   "source": [
    "# Add day of month\n",
    "columnByExampleBuilder = dataFlow.builders.derive_column_by_example(source_columns = [targetColumn], new_column_name = 'DayOfMonth')\n",
    "columnByExampleBuilder.add_example(source_data = {targetColumn : '2008-10-25 00:00:00'}, example_value = '25')\n",
    "columnByExampleBuilder.preview()\n",
    "dataFlow = columnByExampleBuilder.to_dataflow()\n"
   ]
  },
  {
   "cell_type": "code",
   "execution_count": 13,
   "metadata": {},
   "outputs": [],
   "source": [
    "# Add day of month\n",
    "columnByExampleBuilder = dataFlow.builders.derive_column_by_example(source_columns = [targetColumn], new_column_name = 'DayOfWeek')\n",
    "columnByExampleBuilder.add_example(source_data = {targetColumn : '2008-10-25 00:00:00'}, example_value = 'Saturday')\n",
    "columnByExampleBuilder.preview()\n",
    "dataFlow = columnByExampleBuilder.to_dataflow()\n"
   ]
  },
  {
   "cell_type": "code",
   "execution_count": 14,
   "metadata": {},
   "outputs": [],
   "source": [
    "dataProfile = dataFlow.get_profile()\n"
   ]
  },
  {
   "cell_type": "code",
   "execution_count": 15,
   "metadata": {},
   "outputs": [
    {
     "data": {
      "text/html": [
       "<table border=\"1\" class=\"dataframe\">\n",
       "  <thead>\n",
       "    <tr style=\"text-align: right;\">\n",
       "      <th></th>\n",
       "      <th>Type</th>\n",
       "      <th>Min</th>\n",
       "      <th>Max</th>\n",
       "      <th>Count</th>\n",
       "      <th>Missing Count</th>\n",
       "      <th>Not Missing Count</th>\n",
       "      <th>Percent missing</th>\n",
       "      <th>Error Count</th>\n",
       "      <th>Empty count</th>\n",
       "      <th>0.1% Quantile</th>\n",
       "      <th>1% Quantile</th>\n",
       "      <th>5% Quantile</th>\n",
       "      <th>25% Quantile</th>\n",
       "      <th>50% Quantile</th>\n",
       "      <th>75% Quantile</th>\n",
       "      <th>95% Quantile</th>\n",
       "      <th>99% Quantile</th>\n",
       "      <th>99.9% Quantile</th>\n",
       "      <th>Mean</th>\n",
       "      <th>Standard Deviation</th>\n",
       "      <th>Variance</th>\n",
       "      <th>Skewness</th>\n",
       "      <th>Kurtosis</th>\n",
       "    </tr>\n",
       "  </thead>\n",
       "  <tbody>\n",
       "    <tr>\n",
       "      <th>DOB</th>\n",
       "      <td>FieldType.DATE</td>\n",
       "      <td>1900-01-01 00:00:00+00:00</td>\n",
       "      <td>2008-10-25 00:00:00+00:00</td>\n",
       "      <td>19147.0</td>\n",
       "      <td>1.0</td>\n",
       "      <td>19146.0</td>\n",
       "      <td>0.000052</td>\n",
       "      <td>0.0</td>\n",
       "      <td>0.0</td>\n",
       "      <td></td>\n",
       "      <td></td>\n",
       "      <td></td>\n",
       "      <td></td>\n",
       "      <td></td>\n",
       "      <td></td>\n",
       "      <td></td>\n",
       "      <td></td>\n",
       "      <td></td>\n",
       "      <td></td>\n",
       "      <td></td>\n",
       "      <td></td>\n",
       "      <td></td>\n",
       "      <td></td>\n",
       "    </tr>\n",
       "    <tr>\n",
       "      <th>DayOfWeek</th>\n",
       "      <td>FieldType.STRING</td>\n",
       "      <td>Friday</td>\n",
       "      <td>Wednesday</td>\n",
       "      <td>19147.0</td>\n",
       "      <td>1.0</td>\n",
       "      <td>19146.0</td>\n",
       "      <td>0.000052</td>\n",
       "      <td>0.0</td>\n",
       "      <td>0.0</td>\n",
       "      <td></td>\n",
       "      <td></td>\n",
       "      <td></td>\n",
       "      <td></td>\n",
       "      <td></td>\n",
       "      <td></td>\n",
       "      <td></td>\n",
       "      <td></td>\n",
       "      <td></td>\n",
       "      <td></td>\n",
       "      <td></td>\n",
       "      <td></td>\n",
       "      <td></td>\n",
       "      <td></td>\n",
       "    </tr>\n",
       "    <tr>\n",
       "      <th>DayOfMonth</th>\n",
       "      <td>FieldType.STRING</td>\n",
       "      <td>1</td>\n",
       "      <td>9</td>\n",
       "      <td>19147.0</td>\n",
       "      <td>1.0</td>\n",
       "      <td>19146.0</td>\n",
       "      <td>0.000052</td>\n",
       "      <td>0.0</td>\n",
       "      <td>0.0</td>\n",
       "      <td></td>\n",
       "      <td></td>\n",
       "      <td></td>\n",
       "      <td></td>\n",
       "      <td></td>\n",
       "      <td></td>\n",
       "      <td></td>\n",
       "      <td></td>\n",
       "      <td></td>\n",
       "      <td></td>\n",
       "      <td></td>\n",
       "      <td></td>\n",
       "      <td></td>\n",
       "      <td></td>\n",
       "    </tr>\n",
       "    <tr>\n",
       "      <th>Month</th>\n",
       "      <td>FieldType.STRING</td>\n",
       "      <td>April</td>\n",
       "      <td>September</td>\n",
       "      <td>19147.0</td>\n",
       "      <td>1.0</td>\n",
       "      <td>19146.0</td>\n",
       "      <td>0.000052</td>\n",
       "      <td>0.0</td>\n",
       "      <td>0.0</td>\n",
       "      <td></td>\n",
       "      <td></td>\n",
       "      <td></td>\n",
       "      <td></td>\n",
       "      <td></td>\n",
       "      <td></td>\n",
       "      <td></td>\n",
       "      <td></td>\n",
       "      <td></td>\n",
       "      <td></td>\n",
       "      <td></td>\n",
       "      <td></td>\n",
       "      <td></td>\n",
       "      <td></td>\n",
       "    </tr>\n",
       "    <tr>\n",
       "      <th>Year</th>\n",
       "      <td>FieldType.STRING</td>\n",
       "      <td>1900</td>\n",
       "      <td>2008</td>\n",
       "      <td>19147.0</td>\n",
       "      <td>1.0</td>\n",
       "      <td>19146.0</td>\n",
       "      <td>0.000052</td>\n",
       "      <td>0.0</td>\n",
       "      <td>0.0</td>\n",
       "      <td></td>\n",
       "      <td></td>\n",
       "      <td></td>\n",
       "      <td></td>\n",
       "      <td></td>\n",
       "      <td></td>\n",
       "      <td></td>\n",
       "      <td></td>\n",
       "      <td></td>\n",
       "      <td></td>\n",
       "      <td></td>\n",
       "      <td></td>\n",
       "      <td></td>\n",
       "      <td></td>\n",
       "    </tr>\n",
       "    <tr>\n",
       "      <th>ID</th>\n",
       "      <td>FieldType.INTEGER</td>\n",
       "      <td>17936</td>\n",
       "      <td>36765</td>\n",
       "      <td>19147.0</td>\n",
       "      <td>1.0</td>\n",
       "      <td>19146.0</td>\n",
       "      <td>0.000052</td>\n",
       "      <td>0.0</td>\n",
       "      <td>0.0</td>\n",
       "      <td>17957.5</td>\n",
       "      <td>19834.1</td>\n",
       "      <td>19741</td>\n",
       "      <td>22621.6</td>\n",
       "      <td>27301.9</td>\n",
       "      <td>31965.1</td>\n",
       "      <td>35744</td>\n",
       "      <td>36546.7</td>\n",
       "      <td>36743.4</td>\n",
       "      <td>27298.8</td>\n",
       "      <td>5400.8</td>\n",
       "      <td>2.91686e+07</td>\n",
       "      <td>0.0072681</td>\n",
       "      <td>-1.19487</td>\n",
       "    </tr>\n",
       "  </tbody>\n",
       "</table>"
      ],
      "text/plain": [
       "ColumnProfile:\n",
       "    column_name: DOB\n",
       "    type: FieldType.DATE\n",
       "\n",
       "    min: 1900-01-01 00:00:00+00:00\n",
       "    max: 2008-10-25 00:00:00+00:00\n",
       "    count: 19147.0\n",
       "    missing_count: 1.0\n",
       "    not_missing_count: 19146.0\n",
       "    percent_missing: 5.222750300308142e-05\n",
       "    error_count: 0.0\n",
       "    empty_count: 0.0\n",
       "\n",
       "\n",
       "ColumnProfile:\n",
       "    column_name: DayOfWeek\n",
       "    type: FieldType.STRING\n",
       "\n",
       "    min: Friday\n",
       "    max: Wednesday\n",
       "    count: 19147.0\n",
       "    missing_count: 1.0\n",
       "    not_missing_count: 19146.0\n",
       "    percent_missing: 5.222750300308142e-05\n",
       "    error_count: 0.0\n",
       "    empty_count: 0.0\n",
       "\n",
       "\n",
       "ColumnProfile:\n",
       "    column_name: DayOfMonth\n",
       "    type: FieldType.STRING\n",
       "\n",
       "    min: 1\n",
       "    max: 9\n",
       "    count: 19147.0\n",
       "    missing_count: 1.0\n",
       "    not_missing_count: 19146.0\n",
       "    percent_missing: 5.222750300308142e-05\n",
       "    error_count: 0.0\n",
       "    empty_count: 0.0\n",
       "\n",
       "\n",
       "ColumnProfile:\n",
       "    column_name: Month\n",
       "    type: FieldType.STRING\n",
       "\n",
       "    min: April\n",
       "    max: September\n",
       "    count: 19147.0\n",
       "    missing_count: 1.0\n",
       "    not_missing_count: 19146.0\n",
       "    percent_missing: 5.222750300308142e-05\n",
       "    error_count: 0.0\n",
       "    empty_count: 0.0\n",
       "\n",
       "\n",
       "ColumnProfile:\n",
       "    column_name: Year\n",
       "    type: FieldType.STRING\n",
       "\n",
       "    min: 1900\n",
       "    max: 2008\n",
       "    count: 19147.0\n",
       "    missing_count: 1.0\n",
       "    not_missing_count: 19146.0\n",
       "    percent_missing: 5.222750300308142e-05\n",
       "    error_count: 0.0\n",
       "    empty_count: 0.0\n",
       "\n",
       "\n",
       "ColumnProfile:\n",
       "    column_name: ID\n",
       "    type: FieldType.INTEGER\n",
       "\n",
       "    min: 17936.0\n",
       "    max: 36765.0\n",
       "    count: 19147.0\n",
       "    missing_count: 1.0\n",
       "    not_missing_count: 19146.0\n",
       "    percent_missing: 5.222750300308142e-05\n",
       "    error_count: 0.0\n",
       "    empty_count: 0.0\n",
       "\n",
       "\n",
       "    Quantiles:\n",
       "         0.1%: 17957.505076923077\n",
       "           1%: 19834.11288011696\n",
       "           5%: 19741.04861111111\n",
       "          25%: 22621.57794636583\n",
       "          50%: 27301.880255872522\n",
       "          75%: 31965.093154567367\n",
       "          95%: 35743.97104916763\n",
       "          99%: 36546.678301158296\n",
       "        99.9%: 36743.43258133971\n",
       "\n",
       "    mean: 27298.755562519484\n",
       "    std: 5400.796882343092\n",
       "    variance: 29168606.964326866\n",
       "    skewness: 0.007268103979632813\n",
       "    kurtosis: -1.194865681433907"
      ]
     },
     "execution_count": 15,
     "metadata": {},
     "output_type": "execute_result"
    }
   ],
   "source": [
    "dataProfile\n"
   ]
  },
  {
   "cell_type": "code",
   "execution_count": 16,
   "metadata": {},
   "outputs": [],
   "source": [
    "dataColumns = dataProfile.columns.keys()\n"
   ]
  },
  {
   "cell_type": "code",
   "execution_count": 17,
   "metadata": {},
   "outputs": [
    {
     "data": {
      "text/plain": [
       "odict_keys(['DOB', 'DayOfWeek', 'DayOfMonth', 'Month', 'Year', 'ID'])"
      ]
     },
     "execution_count": 17,
     "metadata": {},
     "output_type": "execute_result"
    }
   ],
   "source": [
    "dataColumns\n"
   ]
  },
  {
   "cell_type": "code",
   "execution_count": 18,
   "metadata": {},
   "outputs": [
    {
     "name": "stdout",
     "output_type": "stream",
     "text": [
      "Column DOB : value count None\n",
      "Column DayOfWeek : value count 8\n",
      "Column DayOfMonth : value count 32\n",
      "Column Month : value count 13\n",
      "Column Year : value count 108\n",
      "Column ID : value count None\n"
     ]
    }
   ],
   "source": [
    "for c in dataColumns:\n",
    "    valueCounts = dataProfile.columns[c].value_counts\n",
    "    if valueCounts == None:\n",
    "        valueCountString = 'None'\n",
    "    else:\n",
    "        valueCountString = len(valueCounts)\n",
    "    print('Column {0} : value count {1}'.format(c, valueCountString))\n",
    "\n"
   ]
  },
  {
   "cell_type": "code",
   "execution_count": null,
   "metadata": {},
   "outputs": [],
   "source": []
  },
  {
   "cell_type": "code",
   "execution_count": 19,
   "metadata": {},
   "outputs": [],
   "source": [
    "def plotValueCounts(dataProfile,columnName):\n",
    "    valueCounts = dataProfile.columns[columnName].value_counts\n",
    "    if valueCounts != None:\n",
    "        valueCountsDataFrame = pd.DataFrame(columns = ['ColumnName', 'Value', 'Count'])\n",
    "        for i in valueCounts:\n",
    "            valueCountsDataFrame = valueCountsDataFrame.append({ \\\n",
    "                'Column' : c, \\\n",
    "                'Value' : i.value, \\\n",
    "                'Count' : i.count}, \\\n",
    "                ignore_index = True)\n",
    "        if len(valueCountsDataFrame) > 40:\n",
    "            plot = sns.barplot(x='Value', y='Count', data=valueCountsDataFrame.head(20))\n",
    "            plot\n",
    "            plot = sns.barplot(x='Value', y='Count', data=valueCountsDataFrame.tail(20))\n",
    "            plot\n",
    "        else:\n",
    "            plot = sns.barplot(x='Value', y='Count', data=valueCountsDataFrame)\n",
    "            plot\n",
    "    return plot\n"
   ]
  },
  {
   "cell_type": "code",
   "execution_count": 20,
   "metadata": {},
   "outputs": [
    {
     "data": {
      "image/png": "[encoded data removed]",
      "text/plain": [
       "<Figure size 432x288 with 1 Axes>"
      ]
     },
     "metadata": {
      "needs_background": "light"
     },
     "output_type": "display_data"
    }
   ],
   "source": [
    "plot = plotValueCounts(dataProfile, 'Year')\n"
   ]
  },
  {
   "cell_type": "code",
   "execution_count": 21,
   "metadata": {},
   "outputs": [
    {
     "data": {
      "text/plain": [
       "<matplotlib.axes._subplots.AxesSubplot at 0x1b352a0f160>"
      ]
     },
     "execution_count": 21,
     "metadata": {},
     "output_type": "execute_result"
    }
   ],
   "source": [
    "plot\n"
   ]
  },
  {
   "cell_type": "code",
   "execution_count": 22,
   "metadata": {},
   "outputs": [
    {
     "data": {
      "image/png": "[encoded data removed]",
      "text/plain": [
       "<Figure size 432x288 with 1 Axes>"
      ]
     },
     "metadata": {
      "needs_background": "light"
     },
     "output_type": "display_data"
    }
   ],
   "source": [
    "plot = plotValueCounts(dataProfile, 'Month')\n"
   ]
  },
  {
   "cell_type": "code",
   "execution_count": 23,
   "metadata": {},
   "outputs": [
    {
     "data": {
      "text/plain": [
       "<matplotlib.axes._subplots.AxesSubplot at 0x1b354c41080>"
      ]
     },
     "execution_count": 23,
     "metadata": {},
     "output_type": "execute_result"
    }
   ],
   "source": [
    "plot\n"
   ]
  },
  {
   "cell_type": "code",
   "execution_count": 25,
   "metadata": {},
   "outputs": [
    {
     "data": {
      "image/png": "[encoded data removed]",
      "text/plain": [
       "<Figure size 432x288 with 1 Axes>"
      ]
     },
     "metadata": {
      "needs_background": "light"
     },
     "output_type": "display_data"
    }
   ],
   "source": [
    "plot = plotValueCounts(dataProfile, 'DayOfWeek')\n"
   ]
  },
  {
   "cell_type": "code",
   "execution_count": 26,
   "metadata": {},
   "outputs": [
    {
     "data": {
      "text/plain": [
       "<matplotlib.axes._subplots.AxesSubplot at 0x1b354cc8198>"
      ]
     },
     "execution_count": 26,
     "metadata": {},
     "output_type": "execute_result"
    }
   ],
   "source": [
    "plot\n"
   ]
  },
  {
   "cell_type": "code",
   "execution_count": 27,
   "metadata": {},
   "outputs": [],
   "source": [
    "dataProfileValues = dataProfile.columns.values()\n"
   ]
  },
  {
   "cell_type": "code",
   "execution_count": 28,
   "metadata": {},
   "outputs": [
    {
     "data": {
      "text/plain": [
       "odict_values([ColumnProfile:\n",
       "    column_name: DOB\n",
       "    type: FieldType.DATE\n",
       "\n",
       "    min: 1900-01-01 00:00:00+00:00\n",
       "    max: 2008-10-25 00:00:00+00:00\n",
       "    count: 19147.0\n",
       "    missing_count: 1.0\n",
       "    not_missing_count: 19146.0\n",
       "    percent_missing: 5.222750300308142e-05\n",
       "    error_count: 0.0\n",
       "    empty_count: 0.0\n",
       "\n",
       ", ColumnProfile:\n",
       "    column_name: DayOfWeek\n",
       "    type: FieldType.STRING\n",
       "\n",
       "    min: Friday\n",
       "    max: Wednesday\n",
       "    count: 19147.0\n",
       "    missing_count: 1.0\n",
       "    not_missing_count: 19146.0\n",
       "    percent_missing: 5.222750300308142e-05\n",
       "    error_count: 0.0\n",
       "    empty_count: 0.0\n",
       "\n",
       ", ColumnProfile:\n",
       "    column_name: DayOfMonth\n",
       "    type: FieldType.STRING\n",
       "\n",
       "    min: 1\n",
       "    max: 9\n",
       "    count: 19147.0\n",
       "    missing_count: 1.0\n",
       "    not_missing_count: 19146.0\n",
       "    percent_missing: 5.222750300308142e-05\n",
       "    error_count: 0.0\n",
       "    empty_count: 0.0\n",
       "\n",
       ", ColumnProfile:\n",
       "    column_name: Month\n",
       "    type: FieldType.STRING\n",
       "\n",
       "    min: April\n",
       "    max: September\n",
       "    count: 19147.0\n",
       "    missing_count: 1.0\n",
       "    not_missing_count: 19146.0\n",
       "    percent_missing: 5.222750300308142e-05\n",
       "    error_count: 0.0\n",
       "    empty_count: 0.0\n",
       "\n",
       ", ColumnProfile:\n",
       "    column_name: Year\n",
       "    type: FieldType.STRING\n",
       "\n",
       "    min: 1900\n",
       "    max: 2008\n",
       "    count: 19147.0\n",
       "    missing_count: 1.0\n",
       "    not_missing_count: 19146.0\n",
       "    percent_missing: 5.222750300308142e-05\n",
       "    error_count: 0.0\n",
       "    empty_count: 0.0\n",
       "\n",
       ", ColumnProfile:\n",
       "    column_name: ID\n",
       "    type: FieldType.INTEGER\n",
       "\n",
       "    min: 17936.0\n",
       "    max: 36765.0\n",
       "    count: 19147.0\n",
       "    missing_count: 1.0\n",
       "    not_missing_count: 19146.0\n",
       "    percent_missing: 5.222750300308142e-05\n",
       "    error_count: 0.0\n",
       "    empty_count: 0.0\n",
       "\n",
       "\n",
       "    Quantiles:\n",
       "         0.1%: 17957.505076923077\n",
       "           1%: 19834.11288011696\n",
       "           5%: 19741.04861111111\n",
       "          25%: 22621.57794636583\n",
       "          50%: 27301.880255872522\n",
       "          75%: 31965.093154567367\n",
       "          95%: 35743.97104916763\n",
       "          99%: 36546.678301158296\n",
       "        99.9%: 36743.43258133971\n",
       "\n",
       "    mean: 27298.755562519484\n",
       "    std: 5400.796882343092\n",
       "    variance: 29168606.964326866\n",
       "    skewness: 0.007268103979632813\n",
       "    kurtosis: -1.194865681433907\n",
       "])"
      ]
     },
     "execution_count": 28,
     "metadata": {},
     "output_type": "execute_result"
    }
   ],
   "source": [
    "dataProfileValues"
   ]
  },
  {
   "cell_type": "code",
   "execution_count": null,
   "metadata": {},
   "outputs": [],
   "source": [
    "df = dataFlow.to_pandas_dataframe()\n"
   ]
  },
  {
   "cell_type": "code",
   "execution_count": null,
   "metadata": {},
   "outputs": [],
   "source": [
    "df = df.sort_values([targetColumn]).reset_index(drop=True)\n"
   ]
  },
  {
   "cell_type": "code",
   "execution_count": null,
   "metadata": {},
   "outputs": [],
   "source": [
    "df\n"
   ]
  },
  {
   "cell_type": "code",
   "execution_count": null,
   "metadata": {},
   "outputs": [],
   "source": [
    "profileReport = pp.ProfileReport(df, check_correlation = False)\n",
    "profileReport.to_file('./profileReport.html')\n"
   ]
  },
  {
   "cell_type": "code",
   "execution_count": null,
   "metadata": {},
   "outputs": [],
   "source": [
    "plot = sns.countplot(x=\"Year\", data=df)\n"
   ]
  },
  {
   "cell_type": "code",
   "execution_count": null,
   "metadata": {},
   "outputs": [],
   "source": [
    "plot"
   ]
  },
  {
   "cell_type": "code",
   "execution_count": null,
   "metadata": {},
   "outputs": [],
   "source": []
  }
 ],
 "metadata": {
  "file_extension": ".py",
  "kernelspec": {
   "display_name": "Python 3",
   "language": "python",
   "name": "python3"
  },
  "language_info": {
   "codemirror_mode": {
    "name": "ipython",
    "version": 3
   },
   "file_extension": ".py",
   "mimetype": "text/x-python",
   "name": "python",
   "nbconvert_exporter": "python",
   "pygments_lexer": "ipython3",
   "version": "3.7.3"
  },
  "mimetype": "text/x-python",
  "name": "python",
  "npconvert_exporter": "python",
  "pygments_lexer": "ipython3",
  "version": 3
 },
 "nbformat": 4,
 "nbformat_minor": 2
}
